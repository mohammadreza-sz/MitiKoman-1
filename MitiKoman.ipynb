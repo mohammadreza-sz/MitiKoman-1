{
 "cells": [
  {
   "cell_type": "code",
   "execution_count": 14,
   "metadata": {},
   "outputs": [],
   "source": [
    "from matplotlib import pyplot as plt\n",
    "import numpy as np\n",
    "import cv2"
   ]
  },
  {
   "cell_type": "code",
   "execution_count": null,
   "metadata": {},
   "outputs": [],
   "source": [
   img =cv2.imread("/home/sz/Desktop/miti/Mitikoman-1/media/face.jpg")
   #plt.imshow(img)
   cap = cv2.VideoCapture("C:\\Users\\Asus\\Pictures\\Camera Roll\\mrs.mp4")
   while(True):
    # Capture frame-by-frame
   	ret, frame = cap.read()

    # Display the resulting frame
   	cv2.imshow('frame', frame)
   	if cv2.waitKey(1) & 0xFF == ord('q'):
   	     break

#When everything done, release the capture
cap.release()
cv2.destroyAllWindows()
   ]
  },
  {
   "cell_type": "code",
   "execution_count": null,
   "metadata": {},
   "outputs": [],
   "source": []
  }
 ],
 "metadata": {
  "kernelspec": {
   "name": "python3",
   "display_name": "Python 3.9.2 64-bit",
   "metadata": {
    "interpreter": {
     "hash": "62c7097d63fc9d1743511af7e6555faa5adb679ce825f1daf191610e1ca0efa4"
    }
   }
  }
 },
 "nbformat": 4,
 "nbformat_minor": 5
}
